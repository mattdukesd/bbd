{
 "cells": [
  {
   "cell_type": "code",
   "execution_count": null,
   "metadata": {
    "collapsed": true
   },
   "outputs": [],
   "source": [
    "#dependencies\n",
    "import sqlalchemy\n",
    "from sqlalchemy.ext.automap import automap_base\n",
    "from sqlalchemy.orm import Session\n",
    "from sqlalchemy import create_engine, desc"
   ]
  },
  {
   "cell_type": "code",
   "execution_count": null,
   "metadata": {
    "collapsed": true
   },
   "outputs": [],
   "source": [
    "engine = create_engine(\"sqlite:///DataSets/belly_button_biodiversity.sqlite\")"
   ]
  },
  {
   "cell_type": "code",
   "execution_count": null,
   "metadata": {
    "collapsed": true
   },
   "outputs": [],
   "source": [
    "Base = automap_base()\n",
    "Base.prepare(engine, reflect=True)\n",
    "Base.classes.keys()"
   ]
  },
  {
   "cell_type": "code",
   "execution_count": null,
   "metadata": {
    "collapsed": true
   },
   "outputs": [],
   "source": [
    "Otu = Base.classes.otu\n",
    "Samples = Base.classes.samples\n",
    "Samples_metadata = Base.classes.samples_metadata"
   ]
  },
  {
   "cell_type": "code",
   "execution_count": null,
   "metadata": {
    "collapsed": true
   },
   "outputs": [],
   "source": [
    "#create session \n",
    "session = Session(engine)"
   ]
  },
  {
   "cell_type": "code",
   "execution_count": null,
   "metadata": {
    "collapsed": true
   },
   "outputs": [],
   "source": [
    "sample_names = Samples.__table__.columns\n",
    "sample_names_ls = [name.key for name in sample_names]\n",
    "\n",
    "# for name in sample_names:\n",
    "#     print(name.key)\n",
    "\n",
    "sample_names_ls.remove(\"otu_id\")\n",
    "sample_names_ls"
   ]
  },
  {
   "cell_type": "code",
   "execution_count": null,
   "metadata": {
    "collapsed": true
   },
   "outputs": [],
   "source": [
    "otu_data = session.query(Otu).first()\n",
    "otu_data.__dict__"
   ]
  },
  {
   "cell_type": "code",
   "execution_count": null,
   "metadata": {
    "collapsed": true
   },
   "outputs": [],
   "source": [
    "samples = session.query(Samples).first()\n",
    "samples.__dict__"
   ]
  },
  {
   "cell_type": "code",
   "execution_count": null,
   "metadata": {
    "collapsed": true
   },
   "outputs": [],
   "source": [
    "samples_metadata_ex = session.query(Samples_metadata).first()\n",
    "samples_metadata_ex.__dict__"
   ]
  },
  {
   "cell_type": "code",
   "execution_count": null,
   "metadata": {
    "collapsed": true
   },
   "outputs": [],
   "source": [
    "otu_descriptions = session.query(Otu.lowest_taxonomic_unit_found).all()\n",
    "otu_descriptions"
   ]
  },
  {
   "cell_type": "code",
   "execution_count": null,
   "metadata": {
    "collapsed": true
   },
   "outputs": [],
   "source": [
    "# def sample_query(sample):\n",
    "#     sample_input = sample.replace(\"BB_\", \"\")\n",
    "#     result = session.query(Samples_metadata).filter(Samples_metadata.SAMPLEID == sample_input).all()\n",
    "\n",
    "# sample_input = sample.replace(\"BB_\", \"\")\n",
    "result = session.query(Samples_metadata.AGE, Samples_metadata.BBTYPE, Samples_metadata.ETHNICITY, Samples_metadata.GENDER, Samples_metadata.LOCATION, Samples_metadata.SAMPLEID).filter_by(SAMPLEID = \"940\").all()\n",
    "record = result[0]\n",
    "result_dict = {\n",
    "    \"AGE\": record[0],\n",
    "    \"BBTYPE\": record[1],\n",
    "    \"ETHNICITY\": record[2],\n",
    "    \"GENDER\": record[3],\n",
    "    \"LOCATION\": record[4],\n",
    "    \"SAMPLEID\": record[5]\n",
    "}"
   ]
  },
  {
   "cell_type": "code",
   "execution_count": null,
   "metadata": {
    "collapsed": true
   },
   "outputs": [],
   "source": [
    "result_dict"
   ]
  },
  {
   "cell_type": "code",
   "execution_count": null,
   "metadata": {
    "collapsed": true
   },
   "outputs": [],
   "source": [
    "def sample_query(sample):\n",
    "    sample_name = sample.replace(\"BB_\", \"\")\n",
    "    result = session.query(Samples_metadata.AGE, Samples_metadata.BBTYPE, Samples_metadata.ETHNICITY, Samples_metadata.GENDER, Samples_metadata.LOCATION, Samples_metadata.SAMPLEID).filter_by(SAMPLEID = sample_name).all()\n",
    "    record = result[0]\n",
    "    record_dict = {\n",
    "        \"AGE\": record[0],\n",
    "        \"BBTYPE\": record[1],\n",
    "        \"ETHNICITY\": record[2],\n",
    "        \"GENDER\": record[3],\n",
    "        \"LOCATION\": record[4],\n",
    "        \"SAMPLEID\": record[5]\n",
    "    }\n",
    "    return (record_dict)\n",
    "sample_query(\"BB_940\")"
   ]
  },
  {
   "cell_type": "code",
   "execution_count": null,
   "metadata": {
    "collapsed": true
   },
   "outputs": [],
   "source": [
    "result = session.query(Samples_metadata.WFREQ).filter_by(SAMPLEID = \"940\").all()\n",
    "wash_freq = result[0][0]\n",
    "wash_freq"
   ]
  },
  {
   "cell_type": "code",
   "execution_count": null,
   "metadata": {
    "collapsed": true
   },
   "outputs": [],
   "source": [
    "def otu_data(sample):\n",
    "    sample_query = \"Samples.\" + sample\n",
    "    result = session.query(Samples.otu_id, sample_query).order_by(desc(sample_query)).all()\n",
    "    otu_ids = [result[x][0] for x in range(len(result))]   \n",
    "    sample_values = [result[x][1] for x in range(len(result))]\n",
    "    dict_list = [{\"otu_ids\": otu_ids}, {\"sample_values\": sample_values}]\n",
    "    return dict_list"
   ]
  },
  {
   "cell_type": "code",
   "execution_count": null,
   "metadata": {
    "collapsed": true
   },
   "outputs": [],
   "source": [
    "otu_data(\"BB_940\")"
   ]
  },
  {
   "cell_type": "code",
   "execution_count": null,
   "metadata": {
    "collapsed": true
   },
   "outputs": [],
   "source": [
    "otu_descriptions = session.query(Otu.otu_id, Otu.lowest_taxonomic_unit_found).all()\n",
    "otu_dict = {}\n",
    "for row in otu_descriptions:\n",
    "    otu_dict[row[0]] = row[1]\n",
    "otu_dict"
   ]
  },
  {
   "cell_type": "code",
   "execution_count": null,
   "metadata": {
    "collapsed": true
   },
   "outputs": [],
   "source": [
    "otu_dict"
   ]
  },
  {
   "cell_type": "code",
   "execution_count": null,
   "metadata": {
    "collapsed": true
   },
   "outputs": [],
   "source": []
  },
  {
   "cell_type": "code",
   "execution_count": null,
   "metadata": {
    "collapsed": true
   },
   "outputs": [],
   "source": []
  }
 ],
 "metadata": {
  "kernelspec": {
   "display_name": "Python 3",
   "language": "python",
   "name": "python3"
  },
  "language_info": {
   "codemirror_mode": {
    "name": "ipython",
    "version": 3
   },
   "file_extension": ".py",
   "mimetype": "text/x-python",
   "name": "python",
   "nbconvert_exporter": "python",
   "pygments_lexer": "ipython3",
   "version": "3.6.1"
  }
 },
 "nbformat": 4,
 "nbformat_minor": 2
}
